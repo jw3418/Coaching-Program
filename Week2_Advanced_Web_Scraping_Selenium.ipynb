{
 "cells": [
  {
   "cell_type": "markdown",
   "metadata": {
    "id": "MsxnFpwoijia"
   },
   "source": [
    "# Software Coaching for Python\n",
    "# Week 2: Advanced Web Scraping Using Selenium"
   ]
  },
  {
   "cell_type": "markdown",
   "metadata": {
    "id": "Q1nL2Rudi0Jj"
   },
   "source": [
    "Instructor: Kang-Pyo Lee "
   ]
  },
  {
   "cell_type": "markdown",
   "metadata": {
    "id": "EFczMIb0hucw"
   },
   "source": [
    "Software Installation Instructions: https://docs.google.com/document/d/1q1NnHL_YsRcxUwdO2fjTwbTZAJeow_bxuBMFtSdn_lc/edit?usp=sharing"
   ]
  },
  {
   "cell_type": "code",
   "execution_count": null,
   "metadata": {
    "id": "60LkdvGy8SfO"
   },
   "outputs": [],
   "source": [
    "! pip install --user --upgrade bs4 selenium==3.14.0"
   ]
  },
  {
   "cell_type": "markdown",
   "metadata": {
    "id": "ffEcmwsrhj-L"
   },
   "source": [
    "Latest Filings Received and Processed at the SEC: https://www.sec.gov/cgi-bin/browse-edgar?action=getcurrent"
   ]
  },
  {
   "cell_type": "code",
   "execution_count": null,
   "metadata": {
    "id": "NPupD01VE_CZ"
   },
   "outputs": [],
   "source": [
    "url = \"https://www.sec.gov/cgi-bin/browse-edgar?action=getcurrent\""
   ]
  },
  {
   "cell_type": "code",
   "execution_count": null,
   "metadata": {
    "id": "vOxm4-BShj-M",
    "scrolled": true
   },
   "outputs": [],
   "source": [
    "from bs4 import BeautifulSoup\n",
    "import requests   \n",
    "\n",
    "r = requests.get(url)\n",
    "r.content"
   ]
  },
  {
   "cell_type": "markdown",
   "metadata": {
    "id": "lJPlLivUhj-N"
   },
   "source": [
    "## Automate web scraping using Selenium"
   ]
  },
  {
   "cell_type": "code",
   "execution_count": null,
   "metadata": {
    "id": "TTLDTeNZFCez"
   },
   "outputs": [],
   "source": [
    "from selenium import webdriver \n",
    "from selenium.webdriver.common.keys import Keys"
   ]
  },
  {
   "cell_type": "code",
   "execution_count": null,
   "metadata": {
    "id": "YxrmmtrThj-O"
   },
   "outputs": [],
   "source": [
    "# driver = webdriver.Chrome(\"C:\\\\Users\\\\kangplee\\\\Downloads\\\\chromedriver.exe\")   # for Windows users\n",
    "driver = webdriver.Chrome(\"/Users/kangplee/Downloads/chromedriver\")           # for Mac users"
   ]
  },
  {
   "cell_type": "markdown",
   "metadata": {
    "id": "yrtn-_vThj-O"
   },
   "source": [
    "You should see the Chrome browser automatically pop up. "
   ]
  },
  {
   "cell_type": "code",
   "execution_count": null,
   "metadata": {
    "id": "f7nvNPhEhj-O"
   },
   "outputs": [],
   "source": [
    "url"
   ]
  },
  {
   "cell_type": "code",
   "execution_count": null,
   "metadata": {
    "id": "6yEu6NPVhj-P",
    "scrolled": false
   },
   "outputs": [],
   "source": [
    "driver.get(url)"
   ]
  },
  {
   "cell_type": "code",
   "execution_count": null,
   "metadata": {
    "id": "Jys8VQwMhj-P"
   },
   "outputs": [],
   "source": [
    "element = driver.find_element_by_tag_name(\"html\")\n",
    "html = element.get_attribute(\"outerHTML\")\n",
    "soup = BeautifulSoup(html, \"html.parser\")\n",
    "soup"
   ]
  },
  {
   "cell_type": "code",
   "execution_count": null,
   "metadata": {
    "id": "1VATW9dOhj-Q"
   },
   "outputs": [],
   "source": [
    "soup.title.text"
   ]
  },
  {
   "cell_type": "code",
   "execution_count": null,
   "metadata": {
    "id": "7MyLTRQ9hj-Q"
   },
   "outputs": [],
   "source": [
    "soup.find_all(\"table\")"
   ]
  },
  {
   "cell_type": "code",
   "execution_count": null,
   "metadata": {
    "id": "BExph4nehj-R"
   },
   "outputs": [],
   "source": [
    "len(soup.find_all(\"table\"))"
   ]
  },
  {
   "cell_type": "code",
   "execution_count": null,
   "metadata": {
    "id": "HyyLIY2Qhj-R"
   },
   "outputs": [],
   "source": [
    "soup.find_all(\"table\")[6]"
   ]
  },
  {
   "cell_type": "code",
   "execution_count": null,
   "metadata": {
    "id": "jlNLBpFshj-R"
   },
   "outputs": [],
   "source": [
    "soup.find_all(\"table\")[6].find_all(\"tr\")"
   ]
  },
  {
   "cell_type": "code",
   "execution_count": null,
   "metadata": {
    "id": "Al6k2xTehj-S"
   },
   "outputs": [],
   "source": [
    "soup.find_all(\"table\")[6].find_all(\"tr\")[1:]"
   ]
  },
  {
   "cell_type": "markdown",
   "metadata": {
    "id": "WTOj3dcQ8SfT"
   },
   "source": [
    "https://www.sec.gov/cgi-bin/browse-edgar?action=getcompany&CIK=0001789879&owner=include&count=40"
   ]
  },
  {
   "cell_type": "code",
   "execution_count": null,
   "metadata": {
    "id": "CDA8WPHqhj-S"
   },
   "outputs": [],
   "source": [
    "for tr in soup.find_all(\"table\")[6].find_all(\"tr\")[1:]:\n",
    "    td = tr.find_all(\"td\")[2]\n",
    "    a = td.find(\"a\")\n",
    "    \n",
    "    if a != None:\n",
    "        title = a.text\n",
    "        url = \"https://www.sec.gov\" + a[\"href\"]\n",
    "        \n",
    "        print(title, url)"
   ]
  },
  {
   "cell_type": "code",
   "execution_count": null,
   "metadata": {
    "id": "QA72EMfDhj-S"
   },
   "outputs": [],
   "source": [
    "link = driver.find_element_by_link_text(\"Kennedy Kelly J. (0001545591) (Reporting)\")\n",
    "link.click()"
   ]
  },
  {
   "cell_type": "code",
   "execution_count": null,
   "metadata": {
    "id": "4J0j3l3thj-T"
   },
   "outputs": [],
   "source": [
    "driver.back()"
   ]
  },
  {
   "cell_type": "code",
   "execution_count": null,
   "metadata": {
    "id": "IzZaUiXbhj-T"
   },
   "outputs": [],
   "source": [
    "driver.forward()"
   ]
  },
  {
   "cell_type": "code",
   "execution_count": null,
   "metadata": {
    "id": "YOXx4tzfhj-T"
   },
   "outputs": [],
   "source": [
    "driver.close()"
   ]
  }
 ],
 "metadata": {
  "colab": {
   "provenance": []
  },
  "kernelspec": {
   "display_name": "Python 3 (ipykernel)",
   "language": "python",
   "name": "python3"
  },
  "language_info": {
   "codemirror_mode": {
    "name": "ipython",
    "version": 3
   },
   "file_extension": ".py",
   "mimetype": "text/x-python",
   "name": "python",
   "nbconvert_exporter": "python",
   "pygments_lexer": "ipython3",
   "version": "3.11.3"
  }
 },
 "nbformat": 4,
 "nbformat_minor": 1
}
